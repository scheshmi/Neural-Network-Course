{
  "cells": [
    {
      "cell_type": "markdown",
      "source": [
        "Import libraries\n",
        "\n"
      ],
      "metadata": {
        "id": "4XkVkpy1LyMH"
      }
    },
    {
      "cell_type": "code",
      "execution_count": 29,
      "metadata": {
        "id": "67O781sCwvb-"
      },
      "outputs": [],
      "source": [
        "import torch\n",
        "import torch.optim as optim\n",
        "import torch.nn as nn\n",
        "import torch.nn.functional as F\n",
        "from torch.utils.data import DataLoader, Subset,Dataset\n",
        "import torchvision.datasets as datasets\n",
        "import torchvision.transforms as transforms\n",
        "\n",
        "from tqdm.notebook import tqdm\n",
        "import random\n",
        "import numpy as np\n",
        "import matplotlib.pyplot as plt\n",
        "import torchvision"
      ]
    },
    {
      "cell_type": "code",
      "execution_count": 2,
      "metadata": {
        "id": "7SNiRUeQw_uM"
      },
      "outputs": [],
      "source": [
        "device = torch.device('cuda:0' if torch.cuda.is_available() else 'cpu')"
      ]
    },
    {
      "cell_type": "markdown",
      "source": [
        "Set seed"
      ],
      "metadata": {
        "id": "QNlvOpwcLwdr"
      }
    },
    {
      "cell_type": "code",
      "execution_count": 3,
      "metadata": {
        "id": "592GoXUrxBFv"
      },
      "outputs": [],
      "source": [
        "seed = 42\n",
        "random.seed(seed)\n",
        "np.random.seed(seed)\n",
        "torch.manual_seed(seed)\n",
        "torch.cuda.manual_seed(seed)\n",
        "torch.cuda.manual_seed_all(seed)"
      ]
    },
    {
      "cell_type": "code",
      "execution_count": 4,
      "metadata": {
        "colab": {
          "base_uri": "https://localhost:8080/",
          "height": 101,
          "referenced_widgets": [
            "d931cfa79eb74739991db11cdc437e84",
            "915de79eafe54cdbbac414554ab2ecf9",
            "722a77bb474e431bbc75441f37ce03c5",
            "e5b2aa4471ec4d30a96d91450ddb021e",
            "f81b736850ae4113a5c585db9452680e",
            "62a691674aae4df29e30f12b3b93dc24",
            "c3157be91413474bad5729fd8f87da90",
            "d15b1fe13bd84855bb3e5f6f30f33515",
            "64280fb6d7d14b30b8107920fa5e46f3",
            "faa17f4b29b644a1b05c9aa5a6934d5b",
            "914d45e283704846abe670b5f48a59fa"
          ]
        },
        "id": "0nf2pZG-xCyO",
        "outputId": "d2654d69-094d-45e3-a9b6-ad13fa29b95d"
      },
      "outputs": [
        {
          "output_type": "stream",
          "name": "stdout",
          "text": [
            "Downloading https://www.cs.toronto.edu/~kriz/cifar-10-python.tar.gz to dataset/cifar-10-python.tar.gz\n"
          ]
        },
        {
          "output_type": "display_data",
          "data": {
            "text/plain": [
              "  0%|          | 0/170498071 [00:00<?, ?it/s]"
            ],
            "application/vnd.jupyter.widget-view+json": {
              "version_major": 2,
              "version_minor": 0,
              "model_id": "d931cfa79eb74739991db11cdc437e84"
            }
          },
          "metadata": {}
        },
        {
          "output_type": "stream",
          "name": "stdout",
          "text": [
            "Extracting dataset/cifar-10-python.tar.gz to dataset/\n",
            "Files already downloaded and verified\n"
          ]
        }
      ],
      "source": [
        "train_dataset = datasets.CIFAR10(root = 'dataset/',train = True, download = True, transform = transforms.ToTensor())\n",
        "test_dataset = datasets.CIFAR10(root = 'dataset/',train = False, download = True, transform = transforms.ToTensor())"
      ]
    },
    {
      "cell_type": "code",
      "execution_count": 35,
      "metadata": {
        "id": "TqJoCiAkP0gN"
      },
      "outputs": [],
      "source": [
        "def create_subset(dataset:torch.utils.data.Dataset ,classes: list,n_eachclass: int) -> list:\n",
        "  '''\n",
        "  Determine indexes of samples that belongs to each desired class\n",
        "  return indexes of samples\n",
        "  \n",
        "  '''\n",
        "  class_count = {cls : 0 for cls in classes }\n",
        "\n",
        "  subset_indexes = []\n",
        "  for i in range(len(dataset)):\n",
        "    x, y = dataset[i]\n",
        "    if (y in classes) and (y in class_count.keys()) and (class_count[y] < n_eachclass):\n",
        "      subset_indexes.append(i)\n",
        "      class_count[y] = class_count[y] + 1\n",
        "  \n",
        "  return subset_indexes\n"
      ]
    },
    {
      "cell_type": "code",
      "execution_count": 6,
      "metadata": {
        "id": "BbD48qDBUSAm"
      },
      "outputs": [],
      "source": [
        "first_subset_idx = create_subset(train_dataset,[0,1,2,3,4],100)"
      ]
    },
    {
      "cell_type": "code",
      "execution_count": 7,
      "metadata": {
        "id": "kKM70g2rVSYr"
      },
      "outputs": [],
      "source": [
        "second_subset_idx = create_subset(train_dataset,[5,6,7,8,9],100)"
      ]
    },
    {
      "cell_type": "code",
      "execution_count": 8,
      "metadata": {
        "id": "KYaSHjMzxYsM"
      },
      "outputs": [],
      "source": [
        "first_subset = Subset(dataset=train_dataset,indices=first_subset_idx)\n",
        "second_subset = Subset(dataset=train_dataset,indices=second_subset_idx)"
      ]
    },
    {
      "cell_type": "code",
      "execution_count": 31,
      "metadata": {
        "id": "xfOhE1aGH_7_"
      },
      "outputs": [],
      "source": [
        "class CustomDataset(Dataset):\n",
        "  \"\"\"\n",
        "  Implementing custom dataset to select random pair and compute the mean of them\n",
        "  \n",
        "  \"\"\"\n",
        "  def __init__(self,first_dataset,second_dataset):\n",
        "    super(CustomDataset,self).__init__()\n",
        "    self.first = first_dataset\n",
        "    self.second = second_dataset\n",
        "\n",
        "  def __len__(self):\n",
        "    return len(self.first) + len(self.second)\n",
        "\n",
        "  def __getitem__(self,idx):\n",
        "    rand_1 = np.random.randint(len(self.first))\n",
        "    rand_2 = np.random.randint(len(self.second))\n",
        "\n",
        "    x_1,_ = self.first[rand_1]\n",
        "    x_2,_ = self.second[rand_2]\n",
        "\n",
        "    mean_x = (x_1 + x_2)/2\n",
        "\n",
        "    return x_1, x_2, mean_x"
      ]
    },
    {
      "cell_type": "code",
      "execution_count": 16,
      "metadata": {
        "id": "mSkMKQICJPrz"
      },
      "outputs": [],
      "source": [
        "custom_dataset = CustomDataset(first_subset,second_subset)\n",
        "custom_loader = DataLoader(dataset = custom_dataset,batch_size = 32,shuffle = True,pin_memory=True)"
      ]
    },
    {
      "cell_type": "markdown",
      "metadata": {
        "id": "J2JOuEnU1byx"
      },
      "source": [
        "# VAE"
      ]
    },
    {
      "cell_type": "code",
      "execution_count": null,
      "metadata": {
        "id": "r6jLLVm1zJmT"
      },
      "outputs": [],
      "source": [
        "class VAEEncoder(nn.Module):\n",
        "    def __init__(self, latent_dims):  \n",
        "        super(Encoder, self).__init__()\n",
        "        self.conv1 = nn.Conv2d(3, 256, 3, stride=2, )\n",
        "        self.batch1 = nn.BatchNorm2d(256)\n",
        "        self.conv2 = nn.Conv2d(256, 128, 3, stride=2, )\n",
        "        self.batch2 = nn.BatchNorm2d(128)\n",
        "        self.conv3 = nn.Conv2d(128, 64, 3, stride=2, )\n",
        "        self.batch3 = nn.BatchNorm2d(64)\n",
        "        self.linear1 = nn.Linear(3*3*64, 128)\n",
        "        self.linear2 = nn.Linear(128, latent_dims)\n",
        "        self.linear3 = nn.Linear(128, latent_dims)\n",
        "\n",
        "    def reparameterize(self, mu, logVar):\n",
        "\n",
        "        std = torch.exp(logVar/2)\n",
        "        eps = torch.randn_like(std)\n",
        "        return mu + std * eps\n",
        "\n",
        "    def forward(self, x):\n",
        "\n",
        "        x = F.relu(self.batch1(self.conv1(x)))\n",
        "        x = F.relu(self.batch2(self.conv2(x)))\n",
        "        x = F.relu(self.batch3(self.conv3(x)))\n",
        "        \n",
        "        x = torch.flatten(x, start_dim=1)\n",
        "        x = F.relu(self.linear1(x))\n",
        "\n",
        "        mu =  self.linear2(x)\n",
        "        logVar = self.linear3(x)\n",
        "\n",
        "        z = self.reparameterize(mu, logVar)\n",
        "        \n",
        "        return mu, logVar,z      "
      ]
    },
    {
      "cell_type": "code",
      "execution_count": 32,
      "metadata": {
        "id": "0Gfdcz4A39-p"
      },
      "outputs": [],
      "source": [
        "class VAEDecoder(nn.Module):\n",
        "    \n",
        "    def __init__(self, latent_dims):\n",
        "        super().__init__()\n",
        "\n",
        "        self.latent_space = nn.Sequential(\n",
        "            nn.Linear(latent_dims, 128),\n",
        "            # nn.BatchNorm1d(128,),\n",
        "            nn.ReLU(True),\n",
        "            nn.Linear(128, 3 * 3 * 64),\n",
        "            # nn.BatchNorm1d(3 * 3 * 64),\n",
        "            nn.ReLU(True)\n",
        "        )\n",
        "\n",
        "        self.unflatten = nn.Unflatten(dim=1, unflattened_size=(64, 3, 3))\n",
        "\n",
        "        self.decoder= nn.Sequential(\n",
        "            nn.ConvTranspose2d(64, 128, 3, stride=2, ),\n",
        "            nn.BatchNorm2d(128),\n",
        "            nn.ReLU(True),\n",
        "            nn.ConvTranspose2d(128, 256, 3, stride=2, ),\n",
        "            nn.BatchNorm2d(256),\n",
        "            nn.ReLU(True),\n",
        "            nn.ConvTranspose2d(256, 3, 3, stride=2,output_padding =1 )\n",
        "        )\n",
        "        \n",
        "    def forward(self, x):\n",
        "        x = self.latent_space(x)\n",
        "        x = self.unflatten(x)\n",
        "        x = self.decoder(x)\n",
        "        x = torch.sigmoid(x)\n",
        "        return x"
      ]
    },
    {
      "cell_type": "code",
      "execution_count": 33,
      "metadata": {
        "id": "f8xWv9Z_4XtH"
      },
      "outputs": [],
      "source": [
        "class VAE(nn.Module):\n",
        "    def __init__(self, latent_dims):\n",
        "        super(VAE, self).__init__()\n",
        "        self.encoder = VAEEncoder(latent_dims)\n",
        "        self.decoder_1 = VAEDecoder(latent_dims)\n",
        "        self.decoder_2 = VAEDecoder(latent_dims)\n",
        "\n",
        "    def forward(self, x):\n",
        "        mu, logVar, z = self.encoder(x)\n",
        "\n",
        "        return mu, logVar,self.decoder_1(z), self.decoder_2(z)"
      ]
    },
    {
      "cell_type": "code",
      "execution_count": 36,
      "metadata": {
        "id": "VjG1ZFWb4rsM"
      },
      "outputs": [],
      "source": [
        "def final_loss(reconstruction_loss: float, mu: list, logvar: list) -> float:\n",
        "    \"\"\"\n",
        "    This function computes final loss of VAE, the reconstruction loss  and the \n",
        "    KL-Divergence.\n",
        "    \"\"\"\n",
        "    \n",
        "    KLD = -0.5 * torch.sum(1 + logvar - mu.pow(2) - logvar.exp())\n",
        "    return reconstruction_loss + KLD"
      ]
    },
    {
      "cell_type": "markdown",
      "metadata": {
        "id": "LRN1iOFt4x0d"
      },
      "source": [
        "# Auto-Encoder"
      ]
    },
    {
      "cell_type": "code",
      "execution_count": 37,
      "metadata": {
        "id": "6XSXmIzC_A5R"
      },
      "outputs": [],
      "source": [
        "class Encoder(nn.Module):\n",
        "  def __init__(self, in_channels=3, out_channels=16, latent_dim=128):\n",
        "    super(Encoder,self).__init__()\n",
        "\n",
        "    self.encoder = nn.Sequential(\n",
        "        nn.Conv2d(in_channels, out_channels, 3, padding=1),\n",
        "        nn.ReLU(True),\n",
        "        # nn.Conv2d(out_channels, out_channels, 3, padding=1), \n",
        "        # nn.ReLU(True),\n",
        "        nn.Conv2d(out_channels, 2*out_channels, 3, padding=1, stride=2),\n",
        "        nn.ReLU(True),\n",
        "        # nn.Conv2d(2*out_channels, 2*out_channels, 3, padding=1),\n",
        "        # nn.ReLU(True),\n",
        "        nn.Conv2d(2*out_channels, 4*out_channels, 3, padding=1, stride=2),\n",
        "        nn.ReLU(True),\n",
        "        # nn.Conv2d(4*out_channels, 4*out_channels, 3, padding=1),\n",
        "        # nn.ReLU(True),\n",
        "        # nn.Flatten(),\n",
        "        # nn.Linear(4*out_channels*8*8, latent_dim),\n",
        "        # nn.ReLU(True)\n",
        "    )\n",
        "\n",
        "  def forward(self, x):\n",
        "    \n",
        "    return self.encoder(x)\n"
      ]
    },
    {
      "cell_type": "code",
      "execution_count": 38,
      "metadata": {
        "id": "vi9SiHi7_clR"
      },
      "outputs": [],
      "source": [
        "class Decoder(nn.Module):\n",
        "  def __init__(self, in_channels=3, out_channels=16, latent_dim=128):\n",
        "    super(Decoder,self).__init__()\n",
        "\n",
        "    self.out_channels = out_channels\n",
        "\n",
        "    self.latent_space = nn.Sequential(\n",
        "        nn.Linear(latent_dim, 4*out_channels*8*8),\n",
        "        nn.ReLU(True)\n",
        "    )\n",
        "\n",
        "    self.decoder = nn.Sequential(\n",
        "        # nn.ConvTranspose2d(4*out_channels, 4*out_channels, 3, padding=1),\n",
        "        # nn.ReLU(True),\n",
        "        nn.ConvTranspose2d(4*out_channels, 2*out_channels, 3, padding=1, \n",
        "                           stride=2, output_padding=1),\n",
        "        nn.ReLU(True),\n",
        "        # nn.ConvTranspose2d(2*out_channels, 2*out_channels, 3, padding=1),\n",
        "        # nn.ReLU(True),\n",
        "        nn.ConvTranspose2d(2*out_channels, out_channels, 3, padding=1, \n",
        "                           stride=2, output_padding=1),\n",
        "        nn.ReLU(True),\n",
        "        # nn.ConvTranspose2d(out_channels, out_channels, 3, padding=1),\n",
        "        # nn.ReLU(True),\n",
        "        nn.ConvTranspose2d(out_channels, in_channels, 3, padding=1),\n",
        "        nn.Sigmoid()\n",
        "    )\n",
        "\n",
        "  def forward(self, x):\n",
        "    # x = self.latent_space(x)\n",
        "    # x = x.view(-1, 4*self.out_channels, 8, 8)\n",
        "    x = self.decoder(x)\n",
        "    return x"
      ]
    },
    {
      "cell_type": "code",
      "execution_count": 39,
      "metadata": {
        "id": "FBjITJ2y4921"
      },
      "outputs": [],
      "source": [
        "class Autoencoder(nn.Module):\n",
        "    def __init__(self,out_channels,latent_dim):\n",
        "        super(Autoencoder, self).__init__()\n",
        "        self.encoder = Encoder(3,out_channels,latent_dim)\n",
        "        self.decoder_1 = Decoder(3,out_channels,latent_dim)\n",
        "        self.decoder_2 = Decoder(3,out_channels,latent_dim)\n",
        "\n",
        "    def forward(self, x):\n",
        "       x = self.encoder(x)\n",
        "       output1 = self.decoder_1(x)\n",
        "       output2 = self.decoder_2(x)\n",
        "       return output1,output2"
      ]
    },
    {
      "cell_type": "markdown",
      "metadata": {
        "id": "4fo339s0JuT5"
      },
      "source": [
        "# U-Net"
      ]
    },
    {
      "cell_type": "code",
      "execution_count": 40,
      "metadata": {
        "id": "tn-WorsGJt-s"
      },
      "outputs": [],
      "source": [
        "class DoubleConv(nn.Module):\n",
        "    def __init__(self, in_channels, out_channels):\n",
        "        super(DoubleConv, self).__init__()\n",
        "        self.conv = nn.Sequential(\n",
        "            nn.Conv2d(in_channels, out_channels, 3, 1, 1, bias=False),\n",
        "            nn.BatchNorm2d(out_channels),\n",
        "            nn.ReLU(inplace=True),\n",
        "            nn.Conv2d(out_channels, out_channels, 3, 1, 1, bias=False),\n",
        "            nn.BatchNorm2d(out_channels),\n",
        "            nn.ReLU(inplace=True),\n",
        "        )\n",
        "\n",
        "    def forward(self, x):\n",
        "        return self.conv(x)\n",
        "\n",
        "class UNET(nn.Module):\n",
        "    def __init__(\n",
        "            self, in_channels=3, out_channels=1, features=[64, 128, 256, 512],\n",
        "    ):\n",
        "        super(UNET, self).__init__()\n",
        "        self.encoder = nn.ModuleList()\n",
        "        self.decoder_1 = nn.ModuleList()\n",
        "        self.decoder_2 = nn.ModuleList()\n",
        "\n",
        "        self.pool = nn.MaxPool2d(kernel_size=2, stride=2)\n",
        "\n",
        "        \n",
        "        for feature in features:\n",
        "            self.encoder.append(DoubleConv(in_channels, feature))\n",
        "            in_channels = feature\n",
        "\n",
        "        \n",
        "        for feature in reversed(features):\n",
        "            self.decoder_1.append(\n",
        "                nn.ConvTranspose2d(\n",
        "                    feature*2, feature, kernel_size=2, stride=2,\n",
        "                )\n",
        "            )\n",
        "            self.decoder_1.append(DoubleConv(feature*2, feature))\n",
        "\n",
        "        for feature in reversed(features):\n",
        "            self.decoder_2.append(\n",
        "                nn.ConvTranspose2d(\n",
        "                    feature*2, feature, kernel_size=2, stride=2,\n",
        "                )\n",
        "            )\n",
        "            self.decoder_2.append(DoubleConv(feature*2, feature))\n",
        "\n",
        "        self.bottleneck = DoubleConv(features[-1], features[-1]*2)\n",
        "        self.final_conv_1 = nn.Conv2d(features[0], out_channels, kernel_size=1)\n",
        "        self.final_conv_2 = nn.Conv2d(features[0], out_channels, kernel_size=1)\n",
        "\n",
        "\n",
        "    def forward(self, x):\n",
        "        skip_connections = []\n",
        "\n",
        "        for conv in self.encoder:\n",
        "            x = conv(x)\n",
        "            skip_connections.append(x)\n",
        "            x = self.pool(x)\n",
        "\n",
        "        x = self.bottleneck(x)\n",
        "        skip_connections = skip_connections[::-1]\n",
        "\n",
        "        out_1 = x\n",
        "        out_2 = x\n",
        "        \n",
        "        for idx in range(0, len(self.decoder_1), 2):\n",
        "            \n",
        "            out_1 = self.decoder_1[idx](out_1)\n",
        "            skip_connection = skip_connections[idx//2]\n",
        "\n",
        "            if out_1.shape != skip_connection.shape:\n",
        "                out_1 = transforms.functional.resize(out_1, size=skip_connection.shape[2:])\n",
        "\n",
        "            concat_skip = torch.cat((skip_connection, out_1), dim=1)\n",
        "            out_1 = self.decoder_1[idx+1](concat_skip)\n",
        "        \n",
        "        for idx in range(0, len(self.decoder_2), 2):\n",
        "            out_2 = self.decoder_2[idx](out_2)\n",
        "            skip_connection = skip_connections[idx//2]\n",
        "\n",
        "            if out_2.shape != skip_connection.shape:\n",
        "                out_2 = transforms.functional.resize(out_2, size=skip_connection.shape[2:])\n",
        "\n",
        "            concat_skip = torch.cat((skip_connection, out_2), dim=1)\n",
        "            out_2 = self.decoder_2[idx+1](concat_skip)\n",
        "        \n",
        "\n",
        "        return torch.sigmoid(self.final_conv_1(out_1)), torch.sigmoid(self.final_conv_2(out_2))"
      ]
    },
    {
      "cell_type": "code",
      "execution_count": 17,
      "metadata": {
        "id": "dOf7M4oX6ERM"
      },
      "outputs": [],
      "source": [
        "# vae = VAE(512).to(device)\n",
        "# AE = Autoencoder(16,128).to(device)\n",
        "unet = UNET(in_channels=3, out_channels=3, features=[32,64,128,256]).to(device)\n",
        "optimizer = optim.Adam(unet.parameters(),lr = 0.001)\n",
        "criterion = nn.MSELoss()"
      ]
    },
    {
      "cell_type": "code",
      "execution_count": 43,
      "metadata": {
        "id": "DRRk7RHfWVwg"
      },
      "outputs": [],
      "source": [
        "def get_random_sample(dataset:torch.utils.data.Dataset) -> torch.Tensor:\n",
        "  '''\n",
        "  return random sample from given dataset\n",
        "  '''\n",
        "  batch_size = len(dataset)\n",
        "  rand = np.random.randint(batch_size)\n",
        "  return dataset[rand]"
      ]
    },
    {
      "cell_type": "code",
      "execution_count": 19,
      "metadata": {
        "colab": {
          "base_uri": "https://localhost:8080/",
          "height": 483,
          "referenced_widgets": [
            "3c1389f261554ad7bed8100c0ea63a1f",
            "d46f4f32346b4fe3a5d29e5de7d68cf3",
            "4146775541e843d792fd5490ebbaf2f8",
            "b2fdbd861fa4495aaa18aeda8edc8f3a",
            "18863d8708b948a89d9e78e6810ac548",
            "8914db5ec3d240399ad5efc067cdc504",
            "2567a268adb6419c865c5327b74b40ca",
            "883d845c7eba4a3a9a076f49484d4cb9",
            "71e95860023c4d43995caf155fd96c38",
            "8b0c8def0b534e4eaa62e348a948d9ca",
            "2f9cdab137e34899bf020bc89cdac401"
          ]
        },
        "id": "DSkY8hWB8MBy",
        "outputId": "2aae0dd5-d47d-4b14-81ba-efeec47fb7e7"
      },
      "outputs": [
        {
          "output_type": "display_data",
          "data": {
            "text/plain": [
              "  0%|          | 0/2500 [00:00<?, ?it/s]"
            ],
            "application/vnd.jupyter.widget-view+json": {
              "version_major": 2,
              "version_minor": 0,
              "model_id": "3c1389f261554ad7bed8100c0ea63a1f"
            }
          },
          "metadata": {}
        },
        {
          "output_type": "stream",
          "name": "stdout",
          "text": [
            "Loss: 2.3032\n",
            "Loss: 1.0720\n",
            "Loss: 0.6204\n",
            "Loss: 0.4761\n",
            "Loss: 0.4172\n",
            "Loss: 0.3493\n",
            "Loss: 0.3487\n",
            "Loss: 0.3128\n",
            "Loss: 0.2809\n",
            "Loss: 0.2645\n",
            "Loss: 0.2353\n",
            "Loss: 0.2181\n",
            "Loss: 0.2124\n",
            "Loss: 0.1970\n",
            "Loss: 0.2002\n",
            "Loss: 0.1903\n",
            "Loss: 0.1664\n",
            "Loss: 0.1602\n",
            "Loss: 0.1438\n",
            "Loss: 0.1331\n",
            "Loss: 0.1262\n",
            "Loss: 0.1052\n",
            "Loss: 0.0986\n",
            "Loss: 0.0899\n",
            "Loss: 0.0797\n"
          ]
        }
      ],
      "source": [
        "epochs = 2500\n",
        "\n",
        "unet.train()\n",
        "\n",
        "for epoch in tqdm(range(epochs)):\n",
        "\n",
        "  train_loss = 0.0\n",
        "  for x_1,x_2, mean_x in custom_loader:\n",
        "    \n",
        "    x_1 = x_1.to(device)\n",
        "    x_2 = x_2.to(device)\n",
        "    mean_x = mean_x.to(device)\n",
        "\n",
        "    optimizer.zero_grad()\n",
        "\n",
        "    output_1, output_2 = unet(mean_x)\n",
        "\n",
        "    loss_1 = criterion(x_1,output_1)\n",
        "    loss_2 = criterion(x_2,output_2)\n",
        "\n",
        "    loss = loss_1 + loss_2\n",
        "\n",
        "    loss.backward()\n",
        "    train_loss += loss.item()\n",
        "    optimizer.step()\n",
        "\n",
        "  if epoch % 100 == 0:\n",
        "    print(f\"Loss: {train_loss:.4f}\")"
      ]
    },
    {
      "cell_type": "markdown",
      "source": [
        "# Inference"
      ],
      "metadata": {
        "id": "Lfb8kMTdCG_6"
      }
    },
    {
      "cell_type": "code",
      "source": [
        "def get_random_pair(first_subset: torch.utils.data.Dataset,\n",
        "                    second_subset: torch.utils.data.Dataset) -> tuple:\n",
        "\n",
        "  '''\n",
        "  return a random sample from each datasets and computes average of them \n",
        "  '''\n",
        "  (x_1,_),( x_2,_) = get_random_sample(first_subset), get_random_sample(second_subset)\n",
        "\n",
        "  img_1 = torch.permute(x_1,[1,2,0])\n",
        "  img_2 = torch.permute(x_2,[1,2,0])\n",
        "  mean_img = (img_1 + img_2)/2\n",
        "\n",
        "\n",
        "  return img_1, img_2, mean_img\n"
      ],
      "metadata": {
        "id": "soM_uUhNBswF"
      },
      "execution_count": 44,
      "outputs": []
    },
    {
      "cell_type": "code",
      "execution_count": 48,
      "metadata": {
        "id": "JUnuJ2oAh05b"
      },
      "outputs": [],
      "source": [
        "def test_model(model:torch.nn.Module,image_1:torch.Tensor,image_2:torch.Tensor, mean_image:torch.Tensor)-> None:\n",
        "  '''\n",
        "  Plot two images and averaged image, then inference the model on averaged image and plot the results\n",
        "\n",
        "  '''\n",
        "\n",
        "  fig, ax = plt.subplots(1,3,figsize=(10,5))\n",
        "  \n",
        "  ax[0].imshow(image_1)\n",
        "  ax[0].set_title('Image 1')\n",
        "  ax[0].axis('off')\n",
        "\n",
        "  ax[1].imshow(image_2)\n",
        "  ax[1].set_title('Image 2')\n",
        "  ax[1].axis('off')\n",
        "\n",
        "  ax[2].imshow(mean_image)\n",
        "  ax[2].axis('off')\n",
        "  ax[2].set_title('Average Image ')\n",
        "\n",
        "\n",
        "\n",
        "  ## inference model\n",
        "  mean = torch.permute(mean_image,[2,0,1])\n",
        "  mean = torch.unsqueeze(mean,0).to(device)\n",
        "\n",
        "  model.eval()\n",
        "\n",
        "  output1, output2 = model(mean)\n",
        "\n",
        "  output1 = torch.permute(output1.squeeze(0),[1,2,0]).detach().cpu().numpy()\n",
        "  output2 = torch.permute(output2.squeeze(0),[1,2,0]).detach().cpu().numpy()\n",
        "\n",
        "\n",
        "  fig, ax = plt.subplots(1,2,figsize=(8,5))\n",
        "\n",
        "  ax[0].imshow(output1)\n",
        "  ax[0].set_title('Predicted Image 1')\n",
        "  ax[0].axis('off')\n",
        "\n",
        "  ax[1].imshow(output2)\n",
        "  ax[1].set_title('Predicted Image 2')\n",
        "  ax[1].axis('off')\n",
        "\n",
        "\n",
        "  plt.show()\n"
      ]
    },
    {
      "cell_type": "code",
      "source": [
        "image_1, image_2, mean_image = get_random_pair(first_subset,second_subset)\n",
        "\n",
        "test_model(unet,image_1, image_2, mean_image)"
      ],
      "metadata": {
        "colab": {
          "base_uri": "https://localhost:8080/",
          "height": 444
        },
        "id": "Hs3M-_K-81Zi",
        "outputId": "6504db15-e887-4cfd-bed4-80ad5b765560"
      },
      "execution_count": 22,
      "outputs": [
        {
          "output_type": "display_data",
          "data": {
            "text/plain": [
              "<Figure size 720x360 with 3 Axes>"
            ],
            "image/png": "[encoded data removed]"
          },
          "metadata": {
            "needs_background": "light"
          }
        },
        {
          "output_type": "display_data",
          "data": {
            "text/plain": [
              "<Figure size 576x360 with 2 Axes>"
            ],
            "image/png": "[encoded data removed]"
          },
          "metadata": {
            "needs_background": "light"
          }
        }
      ]
    },
    {
      "cell_type": "markdown",
      "source": [
        "## Model Evaluation on testset"
      ],
      "metadata": {
        "id": "1R5-l6FZDf1G"
      }
    },
    {
      "cell_type": "code",
      "source": [
        "first_testsubset_idx = create_subset(test_dataset,[0,1,2,3,4],1000)\n",
        "second_testsubset_idx = create_subset(test_dataset,[5,6,7,8,9],1000)\n",
        "\n",
        "first_testsubset = Subset(dataset=test_dataset,indices=first_testsubset_idx)\n",
        "second_testsubset = Subset(dataset=test_dataset,indices=second_testsubset_idx)"
      ],
      "metadata": {
        "id": "jJaS0VY788mc"
      },
      "execution_count": 49,
      "outputs": []
    },
    {
      "cell_type": "code",
      "source": [
        "image_1, image_2, mean_image = get_random_pair(first_testsubset,second_testsubset)\n",
        "\n",
        "test_model(unet,image_1, image_2, mean_image)"
      ],
      "metadata": {
        "colab": {
          "base_uri": "https://localhost:8080/",
          "height": 444
        },
        "id": "whP7oq2UDKq_",
        "outputId": "ff4b6600-9ef3-469b-91e5-f6cd0d5ee18c"
      },
      "execution_count": 28,
      "outputs": [
        {
          "output_type": "display_data",
          "data": {
            "text/plain": [
              "<Figure size 720x360 with 3 Axes>"
            ],
            "image/png": "[encoded data removed]"
          },
          "metadata": {
            "needs_background": "light"
          }
        },
        {
          "output_type": "display_data",
          "data": {
            "text/plain": [
              "<Figure size 576x360 with 2 Axes>"
            ],
            "image/png": "[encoded data removed]"
          },
          "metadata": {
            "needs_background": "light"
          }
        }
      ]
    },
    {
      "cell_type": "code",
      "source": [
        "def compute_test_loss(model,test_dataset,criterion)-> float:\n",
        "  \"\"\"\n",
        "  Compute loss on given test dataset\n",
        "  \"\"\"\n",
        "  model.eval()\n",
        "  test_loss = 0\n",
        "  with torch.no_grad():\n",
        "    for x_1,x_2, mean_x in test_dataset:\n",
        "      x_1 = x_1.to(device)\n",
        "      x_2 = x_2.to(device)\n",
        "      mean_x = mean_x.to(device)\n",
        "\n",
        "      out1, out2 = model(mean_x)\n",
        "\n",
        "      loss_1 = criterion(x_1,out1)\n",
        "      loss_2 = criterion(x_2,out2)\n",
        "\n",
        "      loss = loss_1 + loss_2\n",
        "\n",
        "      test_loss += loss.item()\n",
        "\n",
        "  return test_loss"
      ],
      "metadata": {
        "id": "r8_zT8-CDbt4"
      },
      "execution_count": 62,
      "outputs": []
    },
    {
      "cell_type": "code",
      "source": [
        "custom_testdataset = CustomDataset(first_testsubset,second_testsubset)\n",
        "custom_test_loader = DataLoader(dataset = custom_testdataset,batch_size = 32,shuffle = True,pin_memory=True)\n",
        "\n",
        "test_loss = compute_test_loss(unet,custom_test_loader,criterion)\n",
        "\n",
        "print(f'Test Loss: {test_loss:.4f}')"
      ],
      "metadata": {
        "colab": {
          "base_uri": "https://localhost:8080/"
        },
        "id": "vno9CLrPR76X",
        "outputId": "595e17cb-0635-468b-ff36-73ea113465ce"
      },
      "execution_count": 61,
      "outputs": [
        {
          "output_type": "stream",
          "name": "stdout",
          "text": [
            "Test Loss: 25.7132\n"
          ]
        }
      ]
    },
    {
      "cell_type": "code",
      "source": [],
      "metadata": {
        "id": "dmCTym_oS0vv"
      },
      "execution_count": null,
      "outputs": []
    }
  ],
  "metadata": {
    "accelerator": "GPU",
    "colab": {
      "provenance": [],
      "collapsed_sections": [
        "LRN1iOFt4x0d"
      ]
    },
    "gpuClass": "standard",
    "kernelspec": {
      "display_name": "Python 3",
      "name": "python3"
    },
    "language_info": {
      "name": "python"
    },
    "widgets": {
      "application/vnd.jupyter.widget-state+json": {
        "d931cfa79eb74739991db11cdc437e84": {
          "model_module": "@jupyter-widgets/controls",
          "model_name": "HBoxModel",
          "model_module_version": "1.5.0",
          "state": {
            "_dom_classes": [],
            "_model_module": "@jupyter-widgets/controls",
            "_model_module_version": "1.5.0",
            "_model_name": "HBoxModel",
            "_view_count": null,
            "_view_module": "@jupyter-widgets/controls",
            "_view_module_version": "1.5.0",
            "_view_name": "HBoxView",
            "box_style": "",
            "children": [
              "IPY_MODEL_915de79eafe54cdbbac414554ab2ecf9",
              "IPY_MODEL_722a77bb474e431bbc75441f37ce03c5",
              "IPY_MODEL_e5b2aa4471ec4d30a96d91450ddb021e"
            ],
            "layout": "IPY_MODEL_f81b736850ae4113a5c585db9452680e"
          }
        },
        "915de79eafe54cdbbac414554ab2ecf9": {
          "model_module": "@jupyter-widgets/controls",
          "model_name": "HTMLModel",
          "model_module_version": "1.5.0",
          "state": {
            "_dom_classes": [],
            "_model_module": "@jupyter-widgets/controls",
            "_model_module_version": "1.5.0",
            "_model_name": "HTMLModel",
            "_view_count": null,
            "_view_module": "@jupyter-widgets/controls",
            "_view_module_version": "1.5.0",
            "_view_name": "HTMLView",
            "description": "",
            "description_tooltip": null,
            "layout": "IPY_MODEL_62a691674aae4df29e30f12b3b93dc24",
            "placeholder": "​",
            "style": "IPY_MODEL_c3157be91413474bad5729fd8f87da90",
            "value": "100%"
          }
        },
        "722a77bb474e431bbc75441f37ce03c5": {
          "model_module": "@jupyter-widgets/controls",
          "model_name": "FloatProgressModel",
          "model_module_version": "1.5.0",
          "state": {
            "_dom_classes": [],
            "_model_module": "@jupyter-widgets/controls",
            "_model_module_version": "1.5.0",
            "_model_name": "FloatProgressModel",
            "_view_count": null,
            "_view_module": "@jupyter-widgets/controls",
            "_view_module_version": "1.5.0",
            "_view_name": "ProgressView",
            "bar_style": "success",
            "description": "",
            "description_tooltip": null,
            "layout": "IPY_MODEL_d15b1fe13bd84855bb3e5f6f30f33515",
            "max": 170498071,
            "min": 0,
            "orientation": "horizontal",
            "style": "IPY_MODEL_64280fb6d7d14b30b8107920fa5e46f3",
            "value": 170498071
          }
        },
        "e5b2aa4471ec4d30a96d91450ddb021e": {
          "model_module": "@jupyter-widgets/controls",
          "model_name": "HTMLModel",
          "model_module_version": "1.5.0",
          "state": {
            "_dom_classes": [],
            "_model_module": "@jupyter-widgets/controls",
            "_model_module_version": "1.5.0",
            "_model_name": "HTMLModel",
            "_view_count": null,
            "_view_module": "@jupyter-widgets/controls",
            "_view_module_version": "1.5.0",
            "_view_name": "HTMLView",
            "description": "",
            "description_tooltip": null,
            "layout": "IPY_MODEL_faa17f4b29b644a1b05c9aa5a6934d5b",
            "placeholder": "​",
            "style": "IPY_MODEL_914d45e283704846abe670b5f48a59fa",
            "value": " 170498071/170498071 [00:03&lt;00:00, 45187236.30it/s]"
          }
        },
        "f81b736850ae4113a5c585db9452680e": {
          "model_module": "@jupyter-widgets/base",
          "model_name": "LayoutModel",
          "model_module_version": "1.2.0",
          "state": {
            "_model_module": "@jupyter-widgets/base",
            "_model_module_version": "1.2.0",
            "_model_name": "LayoutModel",
            "_view_count": null,
            "_view_module": "@jupyter-widgets/base",
            "_view_module_version": "1.2.0",
            "_view_name": "LayoutView",
            "align_content": null,
            "align_items": null,
            "align_self": null,
            "border": null,
            "bottom": null,
            "display": null,
            "flex": null,
            "flex_flow": null,
            "grid_area": null,
            "grid_auto_columns": null,
            "grid_auto_flow": null,
            "grid_auto_rows": null,
            "grid_column": null,
            "grid_gap": null,
            "grid_row": null,
            "grid_template_areas": null,
            "grid_template_columns": null,
            "grid_template_rows": null,
            "height": null,
            "justify_content": null,
            "justify_items": null,
            "left": null,
            "margin": null,
            "max_height": null,
            "max_width": null,
            "min_height": null,
            "min_width": null,
            "object_fit": null,
            "object_position": null,
            "order": null,
            "overflow": null,
            "overflow_x": null,
            "overflow_y": null,
            "padding": null,
            "right": null,
            "top": null,
            "visibility": null,
            "width": null
          }
        },
        "62a691674aae4df29e30f12b3b93dc24": {
          "model_module": "@jupyter-widgets/base",
          "model_name": "LayoutModel",
          "model_module_version": "1.2.0",
          "state": {
            "_model_module": "@jupyter-widgets/base",
            "_model_module_version": "1.2.0",
            "_model_name": "LayoutModel",
            "_view_count": null,
            "_view_module": "@jupyter-widgets/base",
            "_view_module_version": "1.2.0",
            "_view_name": "LayoutView",
            "align_content": null,
            "align_items": null,
            "align_self": null,
            "border": null,
            "bottom": null,
            "display": null,
            "flex": null,
            "flex_flow": null,
            "grid_area": null,
            "grid_auto_columns": null,
            "grid_auto_flow": null,
            "grid_auto_rows": null,
            "grid_column": null,
            "grid_gap": null,
            "grid_row": null,
            "grid_template_areas": null,
            "grid_template_columns": null,
            "grid_template_rows": null,
            "height": null,
            "justify_content": null,
            "justify_items": null,
            "left": null,
            "margin": null,
            "max_height": null,
            "max_width": null,
            "min_height": null,
            "min_width": null,
            "object_fit": null,
            "object_position": null,
            "order": null,
            "overflow": null,
            "overflow_x": null,
            "overflow_y": null,
            "padding": null,
            "right": null,
            "top": null,
            "visibility": null,
            "width": null
          }
        },
        "c3157be91413474bad5729fd8f87da90": {
          "model_module": "@jupyter-widgets/controls",
          "model_name": "DescriptionStyleModel",
          "model_module_version": "1.5.0",
          "state": {
            "_model_module": "@jupyter-widgets/controls",
            "_model_module_version": "1.5.0",
            "_model_name": "DescriptionStyleModel",
            "_view_count": null,
            "_view_module": "@jupyter-widgets/base",
            "_view_module_version": "1.2.0",
            "_view_name": "StyleView",
            "description_width": ""
          }
        },
        "d15b1fe13bd84855bb3e5f6f30f33515": {
          "model_module": "@jupyter-widgets/base",
          "model_name": "LayoutModel",
          "model_module_version": "1.2.0",
          "state": {
            "_model_module": "@jupyter-widgets/base",
            "_model_module_version": "1.2.0",
            "_model_name": "LayoutModel",
            "_view_count": null,
            "_view_module": "@jupyter-widgets/base",
            "_view_module_version": "1.2.0",
            "_view_name": "LayoutView",
            "align_content": null,
            "align_items": null,
            "align_self": null,
            "border": null,
            "bottom": null,
            "display": null,
            "flex": null,
            "flex_flow": null,
            "grid_area": null,
            "grid_auto_columns": null,
            "grid_auto_flow": null,
            "grid_auto_rows": null,
            "grid_column": null,
            "grid_gap": null,
            "grid_row": null,
            "grid_template_areas": null,
            "grid_template_columns": null,
            "grid_template_rows": null,
            "height": null,
            "justify_content": null,
            "justify_items": null,
            "left": null,
            "margin": null,
            "max_height": null,
            "max_width": null,
            "min_height": null,
            "min_width": null,
            "object_fit": null,
            "object_position": null,
            "order": null,
            "overflow": null,
            "overflow_x": null,
            "overflow_y": null,
            "padding": null,
            "right": null,
            "top": null,
            "visibility": null,
            "width": null
          }
        },
        "64280fb6d7d14b30b8107920fa5e46f3": {
          "model_module": "@jupyter-widgets/controls",
          "model_name": "ProgressStyleModel",
          "model_module_version": "1.5.0",
          "state": {
            "_model_module": "@jupyter-widgets/controls",
            "_model_module_version": "1.5.0",
            "_model_name": "ProgressStyleModel",
            "_view_count": null,
            "_view_module": "@jupyter-widgets/base",
            "_view_module_version": "1.2.0",
            "_view_name": "StyleView",
            "bar_color": null,
            "description_width": ""
          }
        },
        "faa17f4b29b644a1b05c9aa5a6934d5b": {
          "model_module": "@jupyter-widgets/base",
          "model_name": "LayoutModel",
          "model_module_version": "1.2.0",
          "state": {
            "_model_module": "@jupyter-widgets/base",
            "_model_module_version": "1.2.0",
            "_model_name": "LayoutModel",
            "_view_count": null,
            "_view_module": "@jupyter-widgets/base",
            "_view_module_version": "1.2.0",
            "_view_name": "LayoutView",
            "align_content": null,
            "align_items": null,
            "align_self": null,
            "border": null,
            "bottom": null,
            "display": null,
            "flex": null,
            "flex_flow": null,
            "grid_area": null,
            "grid_auto_columns": null,
            "grid_auto_flow": null,
            "grid_auto_rows": null,
            "grid_column": null,
            "grid_gap": null,
            "grid_row": null,
            "grid_template_areas": null,
            "grid_template_columns": null,
            "grid_template_rows": null,
            "height": null,
            "justify_content": null,
            "justify_items": null,
            "left": null,
            "margin": null,
            "max_height": null,
            "max_width": null,
            "min_height": null,
            "min_width": null,
            "object_fit": null,
            "object_position": null,
            "order": null,
            "overflow": null,
            "overflow_x": null,
            "overflow_y": null,
            "padding": null,
            "right": null,
            "top": null,
            "visibility": null,
            "width": null
          }
        },
        "914d45e283704846abe670b5f48a59fa": {
          "model_module": "@jupyter-widgets/controls",
          "model_name": "DescriptionStyleModel",
          "model_module_version": "1.5.0",
          "state": {
            "_model_module": "@jupyter-widgets/controls",
            "_model_module_version": "1.5.0",
            "_model_name": "DescriptionStyleModel",
            "_view_count": null,
            "_view_module": "@jupyter-widgets/base",
            "_view_module_version": "1.2.0",
            "_view_name": "StyleView",
            "description_width": ""
          }
        },
        "3c1389f261554ad7bed8100c0ea63a1f": {
          "model_module": "@jupyter-widgets/controls",
          "model_name": "HBoxModel",
          "model_module_version": "1.5.0",
          "state": {
            "_dom_classes": [],
            "_model_module": "@jupyter-widgets/controls",
            "_model_module_version": "1.5.0",
            "_model_name": "HBoxModel",
            "_view_count": null,
            "_view_module": "@jupyter-widgets/controls",
            "_view_module_version": "1.5.0",
            "_view_name": "HBoxView",
            "box_style": "",
            "children": [
              "IPY_MODEL_d46f4f32346b4fe3a5d29e5de7d68cf3",
              "IPY_MODEL_4146775541e843d792fd5490ebbaf2f8",
              "IPY_MODEL_b2fdbd861fa4495aaa18aeda8edc8f3a"
            ],
            "layout": "IPY_MODEL_18863d8708b948a89d9e78e6810ac548"
          }
        },
        "d46f4f32346b4fe3a5d29e5de7d68cf3": {
          "model_module": "@jupyter-widgets/controls",
          "model_name": "HTMLModel",
          "model_module_version": "1.5.0",
          "state": {
            "_dom_classes": [],
            "_model_module": "@jupyter-widgets/controls",
            "_model_module_version": "1.5.0",
            "_model_name": "HTMLModel",
            "_view_count": null,
            "_view_module": "@jupyter-widgets/controls",
            "_view_module_version": "1.5.0",
            "_view_name": "HTMLView",
            "description": "",
            "description_tooltip": null,
            "layout": "IPY_MODEL_8914db5ec3d240399ad5efc067cdc504",
            "placeholder": "​",
            "style": "IPY_MODEL_2567a268adb6419c865c5327b74b40ca",
            "value": "100%"
          }
        },
        "4146775541e843d792fd5490ebbaf2f8": {
          "model_module": "@jupyter-widgets/controls",
          "model_name": "FloatProgressModel",
          "model_module_version": "1.5.0",
          "state": {
            "_dom_classes": [],
            "_model_module": "@jupyter-widgets/controls",
            "_model_module_version": "1.5.0",
            "_model_name": "FloatProgressModel",
            "_view_count": null,
            "_view_module": "@jupyter-widgets/controls",
            "_view_module_version": "1.5.0",
            "_view_name": "ProgressView",
            "bar_style": "success",
            "description": "",
            "description_tooltip": null,
            "layout": "IPY_MODEL_883d845c7eba4a3a9a076f49484d4cb9",
            "max": 2500,
            "min": 0,
            "orientation": "horizontal",
            "style": "IPY_MODEL_71e95860023c4d43995caf155fd96c38",
            "value": 2500
          }
        },
        "b2fdbd861fa4495aaa18aeda8edc8f3a": {
          "model_module": "@jupyter-widgets/controls",
          "model_name": "HTMLModel",
          "model_module_version": "1.5.0",
          "state": {
            "_dom_classes": [],
            "_model_module": "@jupyter-widgets/controls",
            "_model_module_version": "1.5.0",
            "_model_name": "HTMLModel",
            "_view_count": null,
            "_view_module": "@jupyter-widgets/controls",
            "_view_module_version": "1.5.0",
            "_view_name": "HTMLView",
            "description": "",
            "description_tooltip": null,
            "layout": "IPY_MODEL_8b0c8def0b534e4eaa62e348a948d9ca",
            "placeholder": "​",
            "style": "IPY_MODEL_2f9cdab137e34899bf020bc89cdac401",
            "value": " 2500/2500 [55:22&lt;00:00,  1.30s/it]"
          }
        },
        "18863d8708b948a89d9e78e6810ac548": {
          "model_module": "@jupyter-widgets/base",
          "model_name": "LayoutModel",
          "model_module_version": "1.2.0",
          "state": {
            "_model_module": "@jupyter-widgets/base",
            "_model_module_version": "1.2.0",
            "_model_name": "LayoutModel",
            "_view_count": null,
            "_view_module": "@jupyter-widgets/base",
            "_view_module_version": "1.2.0",
            "_view_name": "LayoutView",
            "align_content": null,
            "align_items": null,
            "align_self": null,
            "border": null,
            "bottom": null,
            "display": null,
            "flex": null,
            "flex_flow": null,
            "grid_area": null,
            "grid_auto_columns": null,
            "grid_auto_flow": null,
            "grid_auto_rows": null,
            "grid_column": null,
            "grid_gap": null,
            "grid_row": null,
            "grid_template_areas": null,
            "grid_template_columns": null,
            "grid_template_rows": null,
            "height": null,
            "justify_content": null,
            "justify_items": null,
            "left": null,
            "margin": null,
            "max_height": null,
            "max_width": null,
            "min_height": null,
            "min_width": null,
            "object_fit": null,
            "object_position": null,
            "order": null,
            "overflow": null,
            "overflow_x": null,
            "overflow_y": null,
            "padding": null,
            "right": null,
            "top": null,
            "visibility": null,
            "width": null
          }
        },
        "8914db5ec3d240399ad5efc067cdc504": {
          "model_module": "@jupyter-widgets/base",
          "model_name": "LayoutModel",
          "model_module_version": "1.2.0",
          "state": {
            "_model_module": "@jupyter-widgets/base",
            "_model_module_version": "1.2.0",
            "_model_name": "LayoutModel",
            "_view_count": null,
            "_view_module": "@jupyter-widgets/base",
            "_view_module_version": "1.2.0",
            "_view_name": "LayoutView",
            "align_content": null,
            "align_items": null,
            "align_self": null,
            "border": null,
            "bottom": null,
            "display": null,
            "flex": null,
            "flex_flow": null,
            "grid_area": null,
            "grid_auto_columns": null,
            "grid_auto_flow": null,
            "grid_auto_rows": null,
            "grid_column": null,
            "grid_gap": null,
            "grid_row": null,
            "grid_template_areas": null,
            "grid_template_columns": null,
            "grid_template_rows": null,
            "height": null,
            "justify_content": null,
            "justify_items": null,
            "left": null,
            "margin": null,
            "max_height": null,
            "max_width": null,
            "min_height": null,
            "min_width": null,
            "object_fit": null,
            "object_position": null,
            "order": null,
            "overflow": null,
            "overflow_x": null,
            "overflow_y": null,
            "padding": null,
            "right": null,
            "top": null,
            "visibility": null,
            "width": null
          }
        },
        "2567a268adb6419c865c5327b74b40ca": {
          "model_module": "@jupyter-widgets/controls",
          "model_name": "DescriptionStyleModel",
          "model_module_version": "1.5.0",
          "state": {
            "_model_module": "@jupyter-widgets/controls",
            "_model_module_version": "1.5.0",
            "_model_name": "DescriptionStyleModel",
            "_view_count": null,
            "_view_module": "@jupyter-widgets/base",
            "_view_module_version": "1.2.0",
            "_view_name": "StyleView",
            "description_width": ""
          }
        },
        "883d845c7eba4a3a9a076f49484d4cb9": {
          "model_module": "@jupyter-widgets/base",
          "model_name": "LayoutModel",
          "model_module_version": "1.2.0",
          "state": {
            "_model_module": "@jupyter-widgets/base",
            "_model_module_version": "1.2.0",
            "_model_name": "LayoutModel",
            "_view_count": null,
            "_view_module": "@jupyter-widgets/base",
            "_view_module_version": "1.2.0",
            "_view_name": "LayoutView",
            "align_content": null,
            "align_items": null,
            "align_self": null,
            "border": null,
            "bottom": null,
            "display": null,
            "flex": null,
            "flex_flow": null,
            "grid_area": null,
            "grid_auto_columns": null,
            "grid_auto_flow": null,
            "grid_auto_rows": null,
            "grid_column": null,
            "grid_gap": null,
            "grid_row": null,
            "grid_template_areas": null,
            "grid_template_columns": null,
            "grid_template_rows": null,
            "height": null,
            "justify_content": null,
            "justify_items": null,
            "left": null,
            "margin": null,
            "max_height": null,
            "max_width": null,
            "min_height": null,
            "min_width": null,
            "object_fit": null,
            "object_position": null,
            "order": null,
            "overflow": null,
            "overflow_x": null,
            "overflow_y": null,
            "padding": null,
            "right": null,
            "top": null,
            "visibility": null,
            "width": null
          }
        },
        "71e95860023c4d43995caf155fd96c38": {
          "model_module": "@jupyter-widgets/controls",
          "model_name": "ProgressStyleModel",
          "model_module_version": "1.5.0",
          "state": {
            "_model_module": "@jupyter-widgets/controls",
            "_model_module_version": "1.5.0",
            "_model_name": "ProgressStyleModel",
            "_view_count": null,
            "_view_module": "@jupyter-widgets/base",
            "_view_module_version": "1.2.0",
            "_view_name": "StyleView",
            "bar_color": null,
            "description_width": ""
          }
        },
        "8b0c8def0b534e4eaa62e348a948d9ca": {
          "model_module": "@jupyter-widgets/base",
          "model_name": "LayoutModel",
          "model_module_version": "1.2.0",
          "state": {
            "_model_module": "@jupyter-widgets/base",
            "_model_module_version": "1.2.0",
            "_model_name": "LayoutModel",
            "_view_count": null,
            "_view_module": "@jupyter-widgets/base",
            "_view_module_version": "1.2.0",
            "_view_name": "LayoutView",
            "align_content": null,
            "align_items": null,
            "align_self": null,
            "border": null,
            "bottom": null,
            "display": null,
            "flex": null,
            "flex_flow": null,
            "grid_area": null,
            "grid_auto_columns": null,
            "grid_auto_flow": null,
            "grid_auto_rows": null,
            "grid_column": null,
            "grid_gap": null,
            "grid_row": null,
            "grid_template_areas": null,
            "grid_template_columns": null,
            "grid_template_rows": null,
            "height": null,
            "justify_content": null,
            "justify_items": null,
            "left": null,
            "margin": null,
            "max_height": null,
            "max_width": null,
            "min_height": null,
            "min_width": null,
            "object_fit": null,
            "object_position": null,
            "order": null,
            "overflow": null,
            "overflow_x": null,
            "overflow_y": null,
            "padding": null,
            "right": null,
            "top": null,
            "visibility": null,
            "width": null
          }
        },
        "2f9cdab137e34899bf020bc89cdac401": {
          "model_module": "@jupyter-widgets/controls",
          "model_name": "DescriptionStyleModel",
          "model_module_version": "1.5.0",
          "state": {
            "_model_module": "@jupyter-widgets/controls",
            "_model_module_version": "1.5.0",
            "_model_name": "DescriptionStyleModel",
            "_view_count": null,
            "_view_module": "@jupyter-widgets/base",
            "_view_module_version": "1.2.0",
            "_view_name": "StyleView",
            "description_width": ""
          }
        }
      }
    }
  },
  "nbformat": 4,
  "nbformat_minor": 0
}